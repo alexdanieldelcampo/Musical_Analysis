{
 "cells": [
  {
   "cell_type": "code",
   "execution_count": 1,
   "metadata": {},
   "outputs": [],
   "source": [
    "import numpy as np\n",
    "import pandas as pd\n",
    "import datetime as dt\n",
    "import json\n",
    "from flask import Flask, jsonify"
   ]
  },
  {
   "cell_type": "code",
   "execution_count": 2,
   "metadata": {},
   "outputs": [],
   "source": [
    "# Python SQL toolkit and Object Relational Mapper\n",
    "import sqlalchemy\n",
    "from sqlalchemy.orm import Session\n",
    "from sqlalchemy import create_engine, func, inspect\n",
    "\n",
    "from sqlalchemy import create_engine\n",
    "from sqlalchemy import Column, Integer, String, Float\n",
    "\n",
    "from sqlalchemy.ext.declarative import declarative_base\n",
    "Base = declarative_base()"
   ]
  },
  {
   "cell_type": "code",
   "execution_count": 3,
   "metadata": {},
   "outputs": [],
   "source": [
    "engine = create_engine(\"sqlite:///musicData.sqlite\")"
   ]
  },
  {
   "cell_type": "code",
   "execution_count": 4,
   "metadata": {},
   "outputs": [],
   "source": [
    "session = Session(bind=engine)"
   ]
  },
  {
   "cell_type": "code",
   "execution_count": 5,
   "metadata": {},
   "outputs": [],
   "source": [
    "data = engine.execute(\"SELECT * from data\")\n",
    "dataJSON = json.dumps([dict(r) for r in data])"
   ]
  },
  {
   "cell_type": "code",
   "execution_count": 6,
   "metadata": {},
   "outputs": [],
   "source": [
    "dataO = engine.execute(\"SELECT * from data_o\")\n",
    "dataOJSON = json.dumps([dict(r) for r in dataO])"
   ]
  },
  {
   "cell_type": "code",
   "execution_count": 7,
   "metadata": {},
   "outputs": [],
   "source": [
    "dataByYear = engine.execute(\"SELECT * from data_by_year\")\n",
    "dataByYearJSON = json.dumps([dict(r) for r in dataByYear])"
   ]
  },
  {
   "cell_type": "code",
   "execution_count": 8,
   "metadata": {},
   "outputs": [],
   "source": [
    "dataByYearO = engine.execute(\"SELECT * from data_by_year_o\")\n",
    "dataByYearOJSON = json.dumps([dict(r) for r in dataByYearO])"
   ]
  },
  {
   "cell_type": "code",
   "execution_count": 9,
   "metadata": {},
   "outputs": [],
   "source": [
    "dataByArtist = engine.execute(\"SELECT * from data_by_artist\")\n",
    "dataByArtistJSON = json.dumps([dict(r) for r in dataByArtist])"
   ]
  },
  {
   "cell_type": "code",
   "execution_count": 10,
   "metadata": {},
   "outputs": [],
   "source": [
    "dataByArtistO = engine.execute(\"SELECT * from data_by_artist_o\")\n",
    "dataByArtistOJSON = json.dumps([dict(r) for r in dataByArtistO])"
   ]
  },
  {
   "cell_type": "code",
   "execution_count": 11,
   "metadata": {},
   "outputs": [],
   "source": [
    "dataByGenres = engine.execute(\"SELECT * from data_by_genres\")\n",
    "dataByGenresJSON = json.dumps([dict(r) for r in dataByGenres])"
   ]
  },
  {
   "cell_type": "code",
   "execution_count": 12,
   "metadata": {},
   "outputs": [],
   "source": [
    "dataByGenresO = engine.execute(\"SELECT * from data_by_genres_o\")\n",
    "dataByGenresOJSON = json.dumps([dict(r) for r in dataByGenresO])"
   ]
  },
  {
   "cell_type": "code",
   "execution_count": 13,
   "metadata": {},
   "outputs": [],
   "source": [
    "dataWithGenres = engine.execute(\"SELECT * from data_w_genres\")\n",
    "dataWithGenresJSON = json.dumps([dict(r) for r in dataWithGenres])"
   ]
  },
  {
   "cell_type": "code",
   "execution_count": 14,
   "metadata": {},
   "outputs": [],
   "source": [
    "dataWithGenresO = engine.execute(\"SELECT * from data_w_genres_o\")\n",
    "dataWithGenresOJSON = json.dumps([dict(r) for r in dataWithGenresO])"
   ]
  },
  {
   "cell_type": "code",
   "execution_count": 15,
   "metadata": {},
   "outputs": [],
   "source": [
    "# print(dataWithGenresJSON)"
   ]
  },
  {
   "cell_type": "code",
   "execution_count": null,
   "metadata": {},
   "outputs": [],
   "source": []
  }
 ],
 "metadata": {
  "kernelspec": {
   "display_name": "Python 3",
   "language": "python",
   "name": "python3"
  },
  "language_info": {
   "codemirror_mode": {
    "name": "ipython",
    "version": 3
   },
   "file_extension": ".py",
   "mimetype": "text/x-python",
   "name": "python",
   "nbconvert_exporter": "python",
   "pygments_lexer": "ipython3",
   "version": "3.8.5"
  }
 },
 "nbformat": 4,
 "nbformat_minor": 4
}
