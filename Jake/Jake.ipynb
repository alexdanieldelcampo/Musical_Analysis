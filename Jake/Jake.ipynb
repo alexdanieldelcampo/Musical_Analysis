{
 "cells": [
  {
   "cell_type": "code",
   "execution_count": 2,
   "metadata": {},
   "outputs": [],
   "source": [
    "import numpy as np\n",
    "import pandas as pd\n",
    "import datetime as dt"
   ]
  },
  {
   "cell_type": "code",
   "execution_count": 4,
   "metadata": {},
   "outputs": [],
   "source": [
    "# Python SQL toolkit and Object Relational Mapper\n",
    "import sqlalchemy\n",
    "from sqlalchemy.ext.automap import automap_base\n",
    "from sqlalchemy.orm import Session\n",
    "from sqlalchemy import create_engine, func, inspect"
   ]
  },
  {
   "cell_type": "code",
   "execution_count": 6,
   "metadata": {},
   "outputs": [
    {
     "data": {
      "text/plain": [
       "['data',\n",
       " 'data_by_artist',\n",
       " 'data_by_artist_o',\n",
       " 'data_by_genres',\n",
       " 'data_by_genres_o',\n",
       " 'data_by_year',\n",
       " 'data_by_year_o',\n",
       " 'data_o',\n",
       " 'data_w_genres',\n",
       " 'data_w_genres_o']"
      ]
     },
     "execution_count": 6,
     "metadata": {},
     "output_type": "execute_result"
    }
   ],
   "source": [
    "# create engine to hawaii.sqlite\n",
    "engine = create_engine(\"sqlite:///musicData.db\")\n",
    "# engine = create_engine(\"sqlite:///Resources/hawaii.sqlite\")\n",
    "inspector=inspect(engine)\n",
    "inspector.get_table_names()"
   ]
  },
  {
   "cell_type": "code",
   "execution_count": 7,
   "metadata": {},
   "outputs": [
    {
     "name": "stdout",
     "output_type": "stream",
     "text": [
      "year INTEGER\n",
      "acousticness REAL\n",
      "danceability REAL\n",
      "duration_ms REAL\n",
      "energy REAL\n",
      "instrumentalness REAL\n",
      "liveness REAL\n",
      "loudness REAL\n",
      "speechiness REAL\n",
      "tempo REAL\n",
      "valence REAL\n",
      "popularity REAL\n",
      "key INTEGER\n",
      "mode INTEGER\n"
     ]
    }
   ],
   "source": [
    "dataByYearColumns = inspector.get_columns('data_by_year')\n",
    "for c in dataByYearColumns:\n",
    "    print(c[\"name\"],c[\"type\"])"
   ]
  },
  {
   "cell_type": "code",
   "execution_count": 8,
   "metadata": {},
   "outputs": [
    {
     "name": "stdout",
     "output_type": "stream",
     "text": [
      "acousticness REAL\n",
      "artists TEXT\n",
      "danceability REAL\n",
      "duration_ms INTEGER\n",
      "energy REAL\n",
      "explicit INTEGER\n",
      "id TEXT\n",
      "instrumentalness REAL\n",
      "key INTEGER\n",
      "liveness REAL\n",
      "loudness REAL\n",
      "mode INTEGER\n",
      "name TEXT\n",
      "popularity INTEGER\n",
      "release_date TEXT\n",
      "speechiness REAL\n",
      "tempo REAL\n",
      "valence REAL\n",
      "year INTEGER\n"
     ]
    }
   ],
   "source": [
    "dataColumns = inspector.get_columns('data')\n",
    "for c in dataColumns:\n",
    "    print(c[\"name\"],c[\"type\"])"
   ]
  },
  {
   "cell_type": "code",
   "execution_count": 9,
   "metadata": {},
   "outputs": [
    {
     "name": "stdout",
     "output_type": "stream",
     "text": [
      "artists TEXT\n",
      "acousticness REAL\n",
      "danceability REAL\n",
      "duration_ms REAL\n",
      "energy REAL\n",
      "instrumentalness REAL\n",
      "liveness REAL\n",
      "loudness REAL\n",
      "speechiness REAL\n",
      "tempo REAL\n",
      "valence REAL\n",
      "popularity REAL\n",
      "key INTEGER\n",
      "mode INTEGER\n",
      "count INTEGER\n"
     ]
    }
   ],
   "source": [
    "dataByArtistColumns = inspector.get_columns('data_by_artist')\n",
    "for c in dataByArtistColumns:\n",
    "    print(c[\"name\"],c[\"type\"])"
   ]
  },
  {
   "cell_type": "code",
   "execution_count": null,
   "metadata": {},
   "outputs": [],
   "source": []
  }
 ],
 "metadata": {
  "kernelspec": {
   "display_name": "Python 3",
   "language": "python",
   "name": "python3"
  },
  "language_info": {
   "codemirror_mode": {
    "name": "ipython",
    "version": 3
   },
   "file_extension": ".py",
   "mimetype": "text/x-python",
   "name": "python",
   "nbconvert_exporter": "python",
   "pygments_lexer": "ipython3",
   "version": "3.8.5"
  }
 },
 "nbformat": 4,
 "nbformat_minor": 4
}
