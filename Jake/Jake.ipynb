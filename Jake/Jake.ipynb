{
 "cells": [
  {
   "cell_type": "code",
   "execution_count": 1,
   "metadata": {},
   "outputs": [],
   "source": [
    "%matplotlib notebook\n",
    "from matplotlib import style\n",
    "style.use('fivethirtyeight')\n",
    "import matplotlib.pyplot as plt\n",
    "import numpy as np\n",
    "import pandas as pd\n",
    "import datetime as dt"
   ]
  },
  {
   "cell_type": "code",
   "execution_count": 2,
   "metadata": {},
   "outputs": [],
   "source": [
    "# Python SQL toolkit and Object Relational Mapper\n",
    "import sqlalchemy\n",
    "# from sqlalchemy.ext.automap import automap_base\n",
    "from sqlalchemy.orm import Session\n",
    "from sqlalchemy import create_engine, func, inspect\n",
    "\n",
    "from sqlalchemy import create_engine\n",
    "from sqlalchemy import Column, Integer, String, Float\n",
    "\n",
    "from sqlalchemy.ext.declarative import declarative_base\n",
    "Base = declarative_base()"
   ]
  },
  {
   "cell_type": "code",
   "execution_count": 3,
   "metadata": {},
   "outputs": [
    {
     "data": {
      "text/plain": [
       "['data',\n",
       " 'data_by_artist',\n",
       " 'data_by_artist_o',\n",
       " 'data_by_genres',\n",
       " 'data_by_genres_o',\n",
       " 'data_by_year',\n",
       " 'data_by_year_o',\n",
       " 'data_o',\n",
       " 'data_w_genres',\n",
       " 'data_w_genres_o']"
      ]
     },
     "execution_count": 3,
     "metadata": {},
     "output_type": "execute_result"
    }
   ],
   "source": [
    "# create engine to hawaii.sqlite\n",
    "engine = create_engine(\"sqlite:///musicData.sqlite\")\n",
    "# engine = create_engine(\"sqlite:///Resources/hawaii.sqlite\")\n",
    "inspector=inspect(engine)\n",
    "inspector.get_table_names()"
   ]
  },
  {
   "cell_type": "code",
   "execution_count": 4,
   "metadata": {},
   "outputs": [
    {
     "name": "stdout",
     "output_type": "stream",
     "text": [
      "year INTEGER\n",
      "acousticness REAL\n",
      "danceability REAL\n",
      "duration_ms REAL\n",
      "energy REAL\n",
      "instrumentalness REAL\n",
      "liveness REAL\n",
      "loudness REAL\n",
      "speechiness REAL\n",
      "tempo REAL\n",
      "valence REAL\n",
      "popularity REAL\n",
      "key INTEGER\n",
      "mode INTEGER\n"
     ]
    }
   ],
   "source": [
    "dataByYearColumns = inspector.get_columns('data_by_year')\n",
    "for c in dataByYearColumns:\n",
    "    print(c[\"name\"],c[\"type\"])"
   ]
  },
  {
   "cell_type": "code",
   "execution_count": 5,
   "metadata": {},
   "outputs": [],
   "source": [
    "class DataByYear(Base):\n",
    "  __tablename__ = \"data_by_year\"\n",
    "  year = Column(String, primary_key=True)\n",
    "  acousticness = Column(Float)\n",
    "  danceability = Column(Float)\n",
    "  duration_ms = Column(Float)\n",
    "  energy = Column(Float)\n",
    "  instrumentalness = Column(Float)\n",
    "  liveness = Column(Float)\n",
    "  loudness = Column(Float)\n",
    "  speechiness = Column(Float)\n",
    "  tempo = Column(Float)\n",
    "  valence = Column(Float)\n",
    "  popularity = Column(Float)\n",
    "  key = Column(Integer)\n",
    "  mode = Column(Integer)\n"
   ]
  },
  {
   "cell_type": "code",
   "execution_count": 6,
   "metadata": {},
   "outputs": [
    {
     "name": "stdout",
     "output_type": "stream",
     "text": [
      "acousticness REAL\n",
      "artists TEXT\n",
      "danceability REAL\n",
      "duration_ms INTEGER\n",
      "energy REAL\n",
      "explicit INTEGER\n",
      "id TEXT\n",
      "instrumentalness REAL\n",
      "key INTEGER\n",
      "liveness REAL\n",
      "loudness REAL\n",
      "mode INTEGER\n",
      "name TEXT\n",
      "popularity INTEGER\n",
      "release_date TEXT\n",
      "speechiness REAL\n",
      "tempo REAL\n",
      "valence REAL\n",
      "year INTEGER\n"
     ]
    }
   ],
   "source": [
    "dataColumns = inspector.get_columns('data')\n",
    "for c in dataColumns:\n",
    "    print(c[\"name\"],c[\"type\"])"
   ]
  },
  {
   "cell_type": "code",
   "execution_count": 7,
   "metadata": {},
   "outputs": [],
   "source": [
    "class Data(Base):\n",
    "  __tablename__ = \"data\"\n",
    "  acousticness = Column(Float)\n",
    "  artists = Column(String)\n",
    "  danceability = Column(Float)\n",
    "  duration_ms = Column(Integer)\n",
    "  energy = Column(Float)\n",
    "  explicit = Column(Integer)\n",
    "  id = Column(String, primary_key = True)\n",
    "  instrumentalness = Column(Float)\n",
    "  key = Column(Integer)\n",
    "  liveness = Column(Float)\n",
    "  loudness = Column(Float)\n",
    "  mode = Column(Integer)\n",
    "  name = Column(String)\n",
    "  popularity = Column(Integer)\n",
    "  release_date = Column(String)\n",
    "  speechiness = Column(Float)\n",
    "  tempo = Column(Float)\n",
    "  valence = Column(Float)\n",
    "  year = Column(Integer)"
   ]
  },
  {
   "cell_type": "code",
   "execution_count": 8,
   "metadata": {
    "scrolled": true
   },
   "outputs": [
    {
     "name": "stdout",
     "output_type": "stream",
     "text": [
      "artists TEXT\n",
      "acousticness REAL\n",
      "danceability REAL\n",
      "duration_ms REAL\n",
      "energy REAL\n",
      "instrumentalness REAL\n",
      "liveness REAL\n",
      "loudness REAL\n",
      "speechiness REAL\n",
      "tempo REAL\n",
      "valence REAL\n",
      "popularity REAL\n",
      "key INTEGER\n",
      "mode INTEGER\n",
      "count INTEGER\n"
     ]
    }
   ],
   "source": [
    "dataByArtistColumns = inspector.get_columns('data_by_artist')\n",
    "for c in dataByArtistColumns:\n",
    "    print(c[\"name\"],c[\"type\"])"
   ]
  },
  {
   "cell_type": "code",
   "execution_count": 9,
   "metadata": {},
   "outputs": [],
   "source": [
    "class DataByArtist(Base):\n",
    "  __tablename__ = \"data_by_artist\"\n",
    "  artists = Column(String, primary_key = True)\n",
    "  acousticness = Column(Float)\n",
    "  danceability = Column(Float)\n",
    "  duration_ms = Column(Float)\n",
    "  energy = Column(Float)\n",
    "  instrumentalness = Column(Float)\n",
    "  liveness = Column(Float)\n",
    "  loudness = Column(Float)\n",
    "  speechiness = Column(Float)\n",
    "  tempo = Column(Float)\n",
    "  valence = Column(Float)\n",
    "  popularity = Column(Float)\n",
    "  key = Column(Integer)\n",
    "  mode = Column(Integer)\n",
    "  count = Column(Integer)\n",
    "  "
   ]
  },
  {
   "cell_type": "code",
   "execution_count": 10,
   "metadata": {},
   "outputs": [
    {
     "name": "stdout",
     "output_type": "stream",
     "text": [
      "mode INTEGER\n",
      "count INTEGER\n",
      "acousticness REAL\n",
      "artists TEXT\n",
      "danceability REAL\n",
      "duration_ms REAL\n",
      "energy REAL\n",
      "instrumentalness REAL\n",
      "liveness REAL\n",
      "loudness REAL\n",
      "speechiness REAL\n",
      "tempo REAL\n",
      "valence REAL\n",
      "popularity REAL\n",
      "key INTEGER\n"
     ]
    }
   ],
   "source": [
    "dataByArtistOColumns = inspector.get_columns('data_by_artist_o')\n",
    "for c in dataByArtistOColumns:\n",
    "    print(c[\"name\"],c[\"type\"])"
   ]
  },
  {
   "cell_type": "code",
   "execution_count": 11,
   "metadata": {},
   "outputs": [],
   "source": [
    "class DataByArtistO(Base):\n",
    "  __tablename__ = 'data_by_artist_o'\n",
    "  mode = Column(Integer)\n",
    "  count = Column(Integer)\n",
    "  acousticness = Column(Float)\n",
    "  artists = Column(String, primary_key = True)\n",
    "  danceability = Column(Float)\n",
    "  duration_ms = Column(Float)\n",
    "  energy = Column(Float)\n",
    "  instrumentalness = Column(Float)\n",
    "  liveness = Column(Float)\n",
    "  loudness = Column(Float)\n",
    "  speechiness = Column(Float)\n",
    "  tempo = Column(Float)\n",
    "  valence = Column(Float)\n",
    "  popularity = Column(Float)\n",
    "  key = Column(Integer)"
   ]
  },
  {
   "cell_type": "code",
   "execution_count": 21,
   "metadata": {
    "scrolled": true
   },
   "outputs": [
    {
     "name": "stdout",
     "output_type": "stream",
     "text": [
      "genres TEXT\n",
      "acousticness REAL\n",
      "danceability REAL\n",
      "duration_ms REAL\n",
      "energy REAL\n",
      "instrumentalness REAL\n",
      "liveness REAL\n",
      "loudness REAL\n",
      "speechiness REAL\n",
      "tempo REAL\n",
      "valence REAL\n",
      "popularity REAL\n",
      "key INTEGER\n",
      "mode INTEGER\n"
     ]
    }
   ],
   "source": [
    "dataByGenresColumns = inspector.get_columns('data_by_genres')\n",
    "for c in dataByGenresColumns:\n",
    "    print(c[\"name\"], c[\"type\"])"
   ]
  },
  {
   "cell_type": "code",
   "execution_count": 22,
   "metadata": {},
   "outputs": [],
   "source": [
    "class DataByGenres(Base):\n",
    "  __tablename__ = 'data_by_genres'\n",
    "  genres = Column(String, primary_key=True)\n",
    "  acousticness = Column(Float)\n",
    "  danceability = Column(Float)\n",
    "  duration_ms = Column(Float)\n",
    "  energy = Column(Float)\n",
    "  instrumentalness = Column(Float)\n",
    "  liveness = Column(Float)\n",
    "  loudness = Column(Float)\n",
    "  speechiness = Column(Float)\n",
    "  tempo = Column(Float)\n",
    "  valence = Column(Float)\n",
    "  popularity = Column(Float)\n",
    "  key = Column(Integer)\n",
    "  mode = Column(Integer)\n"
   ]
  },
  {
   "cell_type": "code",
   "execution_count": 23,
   "metadata": {
    "scrolled": true
   },
   "outputs": [
    {
     "name": "stdout",
     "output_type": "stream",
     "text": [
      "mode INTEGER\n",
      "genres TEXT\n",
      "acousticness REAL\n",
      "danceability REAL\n",
      "duration_ms REAL\n",
      "energy REAL\n",
      "instrumentalness REAL\n",
      "liveness REAL\n",
      "loudness REAL\n",
      "speechiness REAL\n",
      "tempo REAL\n",
      "valence REAL\n",
      "popularity REAL\n",
      "key INTEGER\n"
     ]
    }
   ],
   "source": [
    "dataByGenresOColumns = inspector.get_columns('data_by_genres_o')\n",
    "for c in dataByGenresOColumns:\n",
    "    print(c[\"name\"], c[\"type\"])"
   ]
  },
  {
   "cell_type": "code",
   "execution_count": 25,
   "metadata": {
    "scrolled": true
   },
   "outputs": [
    {
     "name": "stderr",
     "output_type": "stream",
     "text": [
      "/opt/anaconda3/lib/python3.8/site-packages/sqlalchemy/ext/declarative/clsregistry.py:125: SAWarning: This declarative base already contains a class with the same class name and module name as __main__.DataByGenresO, and will be replaced in the string-lookup table.\n",
      "  util.warn(\n"
     ]
    }
   ],
   "source": [
    "class DataByGenresO(Base):\n",
    "  __tablename__ = 'data_by_genres_o'\n",
    "  mode = Column(Integer)\n",
    "  genres = Column(String, primary_key = True)\n",
    "  acousticness = Column(Float)\n",
    "  danceability = Column(Float)\n",
    "  duration_ms = Column(Float)\n",
    "  energy = Column(Float)\n",
    "  instrumentalness = Column(Float)\n",
    "  liveness = Column(Float)\n",
    "  loudness = Column(Float)\n",
    "  speechiness = Column(Float)\n",
    "  tempo = Column(Float)\n",
    "  valence = Column(Float)\n",
    "  popularity = Column(Float)\n",
    "  key = Column(Integer)\n"
   ]
  },
  {
   "cell_type": "code",
   "execution_count": 26,
   "metadata": {
    "scrolled": true
   },
   "outputs": [
    {
     "name": "stdout",
     "output_type": "stream",
     "text": [
      "mode INTEGER\n",
      "year INTEGER\n",
      "acousticness REAL\n",
      "danceability REAL\n",
      "duration_ms REAL\n",
      "energy REAL\n",
      "instrumentalness REAL\n",
      "liveness REAL\n",
      "loudness REAL\n",
      "speechiness REAL\n",
      "tempo REAL\n",
      "valence REAL\n",
      "popularity REAL\n",
      "key INTEGER\n"
     ]
    }
   ],
   "source": [
    "dataByYearOColumns = inspector.get_columns('data_by_year_o')\n",
    "for c in dataByYearOColumns:\n",
    "    print(c[\"name\"],c[\"type\"])"
   ]
  },
  {
   "cell_type": "code",
   "execution_count": 27,
   "metadata": {},
   "outputs": [],
   "source": [
    "class DataByYearO(Base):\n",
    "  __tablename__ = 'data_by_year_o'\n",
    "  mode = Column(Integer)\n",
    "  year = Column(Integer, primary_key = True)\n",
    "  acousticness = Column(Float)\n",
    "  danceability = Column(Float)\n",
    "  duration_ms = Column(Float)\n",
    "  energy = Column(Float)\n",
    "  instrumentalness = Column(Float)\n",
    "  liveness = Column(Float)\n",
    "  loudness = Column(Float)\n",
    "  speechiness = Column(Float)\n",
    "  tempo = Column(Float)\n",
    "  valence = Column(Float)\n",
    "  popularity = Column(Float)\n",
    "  key = Column(Integer)"
   ]
  },
  {
   "cell_type": "code",
   "execution_count": 28,
   "metadata": {},
   "outputs": [
    {
     "name": "stdout",
     "output_type": "stream",
     "text": [
      "valence REAL\n",
      "year INTEGER\n",
      "acousticness REAL\n",
      "artists TEXT\n",
      "danceability REAL\n",
      "duration_ms INTEGER\n",
      "energy REAL\n",
      "explicit INTEGER\n",
      "id TEXT\n",
      "instrumentalness REAL\n",
      "key INTEGER\n",
      "liveness REAL\n",
      "loudness REAL\n",
      "mode INTEGER\n",
      "name TEXT\n",
      "popularity INTEGER\n",
      "release_date TEXT\n",
      "speechiness REAL\n",
      "tempo REAL\n"
     ]
    }
   ],
   "source": [
    "dataOColumns = inspector.get_columns('data_o')\n",
    "for c in dataOColumns:\n",
    "    print(c[\"name\"],c[\"type\"])"
   ]
  },
  {
   "cell_type": "code",
   "execution_count": 29,
   "metadata": {},
   "outputs": [],
   "source": [
    "class DataO(Base):\n",
    "  __tablename__ = 'data_o'\n",
    "  valence = Column(Float)\n",
    "  year = Column(Integer)\n",
    "  acousticness = Column(Float)\n",
    "  artists = Column(String)\n",
    "  danceability = Column(Float)\n",
    "  duration_ms = Column(Integer)\n",
    "  energy = Column(Float)\n",
    "  explicit = Column(Integer)\n",
    "  id = Column(String, primary_key = True)\n",
    "  instrumentalness = Column(Float)\n",
    "  key = Column(Integer)\n",
    "  liveness = Column(Float)\n",
    "  loudness = Column(Float)\n",
    "  mode = Column(Integer)\n",
    "  name = Column(String)\n",
    "  popularity = Column(Integer)\n",
    "  release_date = Column(String)\n",
    "  speechiness = Column(Float)\n",
    "  tempo = Column(Float)"
   ]
  },
  {
   "cell_type": "code",
   "execution_count": 30,
   "metadata": {},
   "outputs": [
    {
     "name": "stdout",
     "output_type": "stream",
     "text": [
      "artists TEXT\n",
      "acousticness REAL\n",
      "danceability REAL\n",
      "duration_ms REAL\n",
      "energy REAL\n",
      "instrumentalness REAL\n",
      "liveness REAL\n",
      "loudness REAL\n",
      "speechiness REAL\n",
      "tempo REAL\n",
      "valence REAL\n",
      "popularity REAL\n",
      "key INTEGER\n",
      "mode INTEGER\n",
      "count INTEGER\n",
      "genres TEXT\n"
     ]
    }
   ],
   "source": [
    "dataWGenresColumns = inspector.get_columns('data_w_genres')\n",
    "for c in dataWGenresColumns:\n",
    "    print(c[\"name\"],c[\"type\"])"
   ]
  },
  {
   "cell_type": "code",
   "execution_count": 31,
   "metadata": {},
   "outputs": [],
   "source": [
    "class DataWGenres(Base):\n",
    "  __tablename__ = 'data_w_genres'\n",
    "  artists = Column(String, primary_key = True)\n",
    "  acousticness = Column(Float)\n",
    "  danceability = Column(Float)\n",
    "  duration_ms = Column(Float)\n",
    "  energy = Column(Float)\n",
    "  instrumentalness = Column(Float)\n",
    "  liveness = Column(Float)\n",
    "  loudness = Column(Float)\n",
    "  speechiness = Column(Float)\n",
    "  tempo = Column(Float)\n",
    "  valence = Column(Float)\n",
    "  popularity = Column(Float)\n",
    "  key = Column(Integer)\n",
    "  mode = Column(Integer)\n",
    "  count = Column(Integer)\n",
    "  genres = Column(String)"
   ]
  },
  {
   "cell_type": "code",
   "execution_count": 32,
   "metadata": {},
   "outputs": [
    {
     "name": "stdout",
     "output_type": "stream",
     "text": [
      "genres TEXT\n",
      "artists TEXT\n",
      "acousticness REAL\n",
      "danceability REAL\n",
      "duration_ms REAL\n",
      "energy REAL\n",
      "instrumentalness REAL\n",
      "liveness REAL\n",
      "loudness REAL\n",
      "speechiness REAL\n",
      "tempo REAL\n",
      "valence REAL\n",
      "popularity REAL\n",
      "key INTEGER\n",
      "mode INTEGER\n",
      "count INTEGER\n"
     ]
    }
   ],
   "source": [
    "dataWGenresOColumns = inspector.get_columns('data_w_genres_o')\n",
    "for c in dataWGenresOColumns:\n",
    "    print(c[\"name\"],c[\"type\"])"
   ]
  },
  {
   "cell_type": "code",
   "execution_count": 33,
   "metadata": {},
   "outputs": [],
   "source": [
    "class DataWGenresO(Base):\n",
    "  __tablename__ = 'data_w_genres_o'\n",
    "  genres = Column(String)\n",
    "  artists = Column(String, primary_key = True)\n",
    "  acousticness = Column(Float)\n",
    "  danceability = Column(Float)\n",
    "  duration_ms = Column(Float)\n",
    "  energy = Column(Float)\n",
    "  instrumentalness = Column(Float)\n",
    "  liveness = Column(Float)\n",
    "  loudness = Column(Float)\n",
    "  speechiness = Column(Float)\n",
    "  tempo = Column(Float)\n",
    "  valence = Column(Float)\n",
    "  popularity = Column(Float)\n",
    "  key = Column(Integer)\n",
    "  mode = Column(Integer)\n",
    "  count = Column(Integer)"
   ]
  },
  {
   "cell_type": "code",
   "execution_count": 12,
   "metadata": {},
   "outputs": [],
   "source": [
    "# # reflect an existing database into a new model\n",
    "# Base = automap_base()\n",
    "\n",
    "# # reflect the tables\n",
    "# Base.prepare(engine, reflect=True)"
   ]
  },
  {
   "cell_type": "code",
   "execution_count": 13,
   "metadata": {},
   "outputs": [],
   "source": [
    "# # View all of the classes that automap found\n",
    "# Base.classes.keys()"
   ]
  },
  {
   "cell_type": "code",
   "execution_count": 14,
   "metadata": {},
   "outputs": [],
   "source": [
    "Base.metadata.create_all(engine)"
   ]
  },
  {
   "cell_type": "code",
   "execution_count": 15,
   "metadata": {},
   "outputs": [],
   "source": [
    "# # Save references to each table\n",
    "# Data = Base.classes.data\n",
    "# dataByYear = Base.classes.data_by_year"
   ]
  },
  {
   "cell_type": "code",
   "execution_count": 16,
   "metadata": {},
   "outputs": [],
   "source": [
    "session = Session(bind=engine)"
   ]
  },
  {
   "cell_type": "code",
   "execution_count": 18,
   "metadata": {},
   "outputs": [
    {
     "name": "stdout",
     "output_type": "stream",
     "text": [
      "1920\n",
      "1921\n",
      "1922\n",
      "1923\n",
      "1924\n",
      "1925\n",
      "1926\n",
      "1927\n",
      "1928\n",
      "1929\n",
      "1930\n",
      "1931\n",
      "1932\n",
      "1933\n",
      "1934\n",
      "1935\n",
      "1936\n",
      "1937\n",
      "1938\n",
      "1939\n",
      "1940\n",
      "1941\n",
      "1942\n",
      "1943\n",
      "1944\n",
      "1945\n",
      "1946\n",
      "1947\n",
      "1948\n",
      "1949\n",
      "1950\n",
      "1951\n",
      "1952\n",
      "1953\n",
      "1954\n",
      "1955\n",
      "1956\n",
      "1957\n",
      "1958\n",
      "1959\n",
      "1960\n",
      "1961\n",
      "1962\n",
      "1963\n",
      "1964\n",
      "1965\n",
      "1966\n",
      "1967\n",
      "1968\n",
      "1969\n",
      "1970\n",
      "1971\n",
      "1972\n",
      "1973\n",
      "1974\n",
      "1975\n",
      "1976\n",
      "1977\n",
      "1978\n",
      "1979\n",
      "1980\n",
      "1981\n",
      "1982\n",
      "1983\n",
      "1984\n",
      "1985\n",
      "1986\n",
      "1987\n",
      "1988\n",
      "1989\n",
      "1990\n",
      "1991\n",
      "1992\n",
      "1993\n",
      "1994\n",
      "1995\n",
      "1996\n",
      "1997\n",
      "1998\n",
      "1999\n",
      "2000\n",
      "2001\n",
      "2002\n",
      "2003\n",
      "2004\n",
      "2005\n",
      "2006\n",
      "2007\n",
      "2008\n",
      "2009\n",
      "2010\n",
      "2011\n",
      "2012\n",
      "2013\n",
      "2014\n",
      "2015\n",
      "2016\n",
      "2017\n",
      "2018\n",
      "2019\n",
      "2020\n",
      "2021\n"
     ]
    }
   ],
   "source": [
    "#print all of the years in the DataByYear table\n",
    "years = session.query(Data_By_Year)\n",
    "for bob in years:\n",
    "    print(bob.year)"
   ]
  },
  {
   "cell_type": "code",
   "execution_count": 19,
   "metadata": {},
   "outputs": [],
   "source": [
    "session.close()"
   ]
  },
  {
   "cell_type": "code",
   "execution_count": null,
   "metadata": {},
   "outputs": [],
   "source": []
  }
 ],
 "metadata": {
  "kernelspec": {
   "display_name": "Python 3",
   "language": "python",
   "name": "python3"
  },
  "language_info": {
   "codemirror_mode": {
    "name": "ipython",
    "version": 3
   },
   "file_extension": ".py",
   "mimetype": "text/x-python",
   "name": "python",
   "nbconvert_exporter": "python",
   "pygments_lexer": "ipython3",
   "version": "3.8.5"
  }
 },
 "nbformat": 4,
 "nbformat_minor": 4
}
