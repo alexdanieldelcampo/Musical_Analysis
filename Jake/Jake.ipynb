{
 "cells": [
  {
   "cell_type": "code",
   "execution_count": 1,
   "metadata": {},
   "outputs": [],
   "source": [
    "%matplotlib notebook\n",
    "from matplotlib import style\n",
    "style.use('fivethirtyeight')\n",
    "import matplotlib.pyplot as plt\n",
    "import numpy as np\n",
    "import pandas as pd\n",
    "import datetime as dt"
   ]
  },
  {
   "cell_type": "code",
   "execution_count": 2,
   "metadata": {},
   "outputs": [],
   "source": [
    "# Python SQL toolkit and Object Relational Mapper\n",
    "import sqlalchemy\n",
    "# from sqlalchemy.ext.automap import automap_base\n",
    "from sqlalchemy.orm import Session\n",
    "from sqlalchemy import create_engine, func, inspect\n",
    "\n",
    "from sqlalchemy import create_engine\n",
    "from sqlalchemy import Column, Integer, String, Float\n",
    "\n",
    "from sqlalchemy.ext.declarative import declarative_base\n",
    "Base = declarative_base()"
   ]
  },
  {
   "cell_type": "code",
   "execution_count": 3,
   "metadata": {},
   "outputs": [
    {
     "data": {
      "text/plain": [
       "['data',\n",
       " 'data_by_artist',\n",
       " 'data_by_artist_o',\n",
       " 'data_by_genres',\n",
       " 'data_by_genres_o',\n",
       " 'data_by_year',\n",
       " 'data_by_year_o',\n",
       " 'data_o',\n",
       " 'data_w_genres',\n",
       " 'data_w_genres_o']"
      ]
     },
     "execution_count": 3,
     "metadata": {},
     "output_type": "execute_result"
    }
   ],
   "source": [
    "# create engine to hawaii.sqlite\n",
    "engine = create_engine(\"sqlite:///musicData.sqlite\")\n",
    "# engine = create_engine(\"sqlite:///Resources/hawaii.sqlite\")\n",
    "inspector=inspect(engine)\n",
    "inspector.get_table_names()"
   ]
  },
  {
   "cell_type": "code",
   "execution_count": 4,
   "metadata": {},
   "outputs": [
    {
     "name": "stdout",
     "output_type": "stream",
     "text": [
      "year INTEGER\n",
      "acousticness REAL\n",
      "danceability REAL\n",
      "duration_ms REAL\n",
      "energy REAL\n",
      "instrumentalness REAL\n",
      "liveness REAL\n",
      "loudness REAL\n",
      "speechiness REAL\n",
      "tempo REAL\n",
      "valence REAL\n",
      "popularity REAL\n",
      "key INTEGER\n",
      "mode INTEGER\n"
     ]
    }
   ],
   "source": [
    "dataByYearColumns = inspector.get_columns('data_by_year')\n",
    "for c in dataByYearColumns:\n",
    "    print(c[\"name\"],c[\"type\"])"
   ]
  },
  {
   "cell_type": "code",
   "execution_count": 5,
   "metadata": {},
   "outputs": [],
   "source": [
    "class Data_By_Year(Base):\n",
    "  __tablename__ = \"data_by_year\"\n",
    "  year = Column(String, primary_key=True)\n",
    "  acousticness = Column(Float)\n",
    "  danceability = Column(Float)\n",
    "  duration_ms = Column(Float)\n",
    "  energy = Column(Float)\n",
    "  instrumentalness = Column(Float)\n",
    "  liveness = Column(Float)\n",
    "  loudness = Column(Float)\n",
    "  speechiness = Column(Float)\n",
    "  tempo = Column(Float)\n",
    "  valence = Column(Float)\n",
    "  popularity = Column(Float)\n",
    "  key = Column(Integer)\n",
    "  mode = Column(Integer)\n"
   ]
  },
  {
   "cell_type": "code",
   "execution_count": 6,
   "metadata": {},
   "outputs": [
    {
     "name": "stdout",
     "output_type": "stream",
     "text": [
      "acousticness REAL\n",
      "artists TEXT\n",
      "danceability REAL\n",
      "duration_ms INTEGER\n",
      "energy REAL\n",
      "explicit INTEGER\n",
      "id TEXT\n",
      "instrumentalness REAL\n",
      "key INTEGER\n",
      "liveness REAL\n",
      "loudness REAL\n",
      "mode INTEGER\n",
      "name TEXT\n",
      "popularity INTEGER\n",
      "release_date TEXT\n",
      "speechiness REAL\n",
      "tempo REAL\n",
      "valence REAL\n",
      "year INTEGER\n"
     ]
    }
   ],
   "source": [
    "dataColumns = inspector.get_columns('data')\n",
    "for c in dataColumns:\n",
    "    print(c[\"name\"],c[\"type\"])"
   ]
  },
  {
   "cell_type": "code",
   "execution_count": 7,
   "metadata": {},
   "outputs": [],
   "source": [
    "class Data(Base):\n",
    "  __tablename__ = \"data\"\n",
    "  acousticness = Column(Float)\n",
    "  artists = Column(String)\n",
    "  danceability = Column(Float)\n",
    "  duration_ms = Column(Integer)\n",
    "  energy = Column(Float)\n",
    "  explicit = Column(Integer)\n",
    "  id = Column(String, primary_key = True)\n",
    "  instrumentalness = Column(Float)\n",
    "  key = Column(Integer)\n",
    "  liveness = Column(Float)\n",
    "  loudness = Column(Float)\n",
    "  mode = Column(Integer)\n",
    "  name = Column(String)\n",
    "  popularity = Column(Integer)\n",
    "  release_date = Column(String)\n",
    "  speechiness = Column(Float)\n",
    "  tempo = Column(Float)\n",
    "  valence = Column(Float)\n",
    "  year = Column(Integer)"
   ]
  },
  {
   "cell_type": "code",
   "execution_count": 8,
   "metadata": {
    "scrolled": true
   },
   "outputs": [
    {
     "name": "stdout",
     "output_type": "stream",
     "text": [
      "artists TEXT\n",
      "acousticness REAL\n",
      "danceability REAL\n",
      "duration_ms REAL\n",
      "energy REAL\n",
      "instrumentalness REAL\n",
      "liveness REAL\n",
      "loudness REAL\n",
      "speechiness REAL\n",
      "tempo REAL\n",
      "valence REAL\n",
      "popularity REAL\n",
      "key INTEGER\n",
      "mode INTEGER\n",
      "count INTEGER\n"
     ]
    }
   ],
   "source": [
    "dataByArtistColumns = inspector.get_columns('data_by_artist')\n",
    "for c in dataByArtistColumns:\n",
    "    print(c[\"name\"],c[\"type\"])"
   ]
  },
  {
   "cell_type": "code",
   "execution_count": 9,
   "metadata": {},
   "outputs": [],
   "source": [
    "class DataByArtist(Base):\n",
    "  __tablename__ = \"data_by_artist\"\n",
    "  artists = Column(String, primary_key = True)\n",
    "  acousticness = Column(Float)\n",
    "  danceability = Column(Float)\n",
    "  duration_ms = Column(Float)\n",
    "  energy = Column(Float)\n",
    "  instrumentalness = Column(Float)\n",
    "  liveness = Column(Float)\n",
    "  loudness = Column(Float)\n",
    "  speechiness = Column(Float)\n",
    "  tempo = Column(Float)\n",
    "  valence = Column(Float)\n",
    "  popularity = Column(Float)\n",
    "  key = Column(Integer)\n",
    "  mode = Column(Integer)\n",
    "  count = Column(Integer)\n",
    "  "
   ]
  },
  {
   "cell_type": "code",
   "execution_count": 10,
   "metadata": {},
   "outputs": [
    {
     "name": "stdout",
     "output_type": "stream",
     "text": [
      "mode INTEGER\n",
      "count INTEGER\n",
      "acousticness REAL\n",
      "artists TEXT\n",
      "danceability REAL\n",
      "duration_ms REAL\n",
      "energy REAL\n",
      "instrumentalness REAL\n",
      "liveness REAL\n",
      "loudness REAL\n",
      "speechiness REAL\n",
      "tempo REAL\n",
      "valence REAL\n",
      "popularity REAL\n",
      "key INTEGER\n"
     ]
    }
   ],
   "source": [
    "dataByArtistOColumns = inspector.get_columns('data_by_artist_o')\n",
    "for c in dataByArtistOColumns:\n",
    "    print(c[\"name\"],c[\"type\"])"
   ]
  },
  {
   "cell_type": "code",
   "execution_count": 11,
   "metadata": {},
   "outputs": [],
   "source": [
    "class DataByArtistO(Base):\n",
    "  __tablename__ = 'data_by_artist_o'\n",
    "  mode = Column(Integer)\n",
    "  count = Column(Integer)\n",
    "  acousticness = Column(Float)\n",
    "  artists = Column(String, primary_key = True)\n",
    "  danceability = Column(Float)\n",
    "  duration_ms = Column(Float)\n",
    "  energy = Column(Float)\n",
    "  instrumentalness = Column(Float)\n",
    "  liveness = Column(Float)\n",
    "  loudness = Column(Float)\n",
    "  speechiness = Column(Float)\n",
    "  tempo = Column(Float)\n",
    "  valence = Column(Float)\n",
    "  popularity = Column(Float)\n",
    "  key = Column(Integer)"
   ]
  },
  {
   "cell_type": "code",
   "execution_count": null,
   "metadata": {},
   "outputs": [],
   "source": [
    "# # reflect an existing database into a new model\n",
    "# Base = automap_base()\n",
    "\n",
    "# # reflect the tables\n",
    "# Base.prepare(engine, reflect=True)"
   ]
  },
  {
   "cell_type": "code",
   "execution_count": 12,
   "metadata": {},
   "outputs": [
    {
     "ename": "AttributeError",
     "evalue": "type object 'Base' has no attribute 'classes'",
     "output_type": "error",
     "traceback": [
      "\u001b[0;31m---------------------------------------------------------------------------\u001b[0m",
      "\u001b[0;31mAttributeError\u001b[0m                            Traceback (most recent call last)",
      "\u001b[0;32m<ipython-input-12-5fc14d0bc400>\u001b[0m in \u001b[0;36m<module>\u001b[0;34m\u001b[0m\n\u001b[1;32m      1\u001b[0m \u001b[0;31m# View all of the classes that automap found\u001b[0m\u001b[0;34m\u001b[0m\u001b[0;34m\u001b[0m\u001b[0;34m\u001b[0m\u001b[0m\n\u001b[0;32m----> 2\u001b[0;31m \u001b[0mBase\u001b[0m\u001b[0;34m.\u001b[0m\u001b[0mclasses\u001b[0m\u001b[0;34m.\u001b[0m\u001b[0mkeys\u001b[0m\u001b[0;34m(\u001b[0m\u001b[0;34m)\u001b[0m\u001b[0;34m\u001b[0m\u001b[0;34m\u001b[0m\u001b[0m\n\u001b[0m",
      "\u001b[0;31mAttributeError\u001b[0m: type object 'Base' has no attribute 'classes'"
     ]
    }
   ],
   "source": [
    "# # View all of the classes that automap found\n",
    "# Base.classes.keys()"
   ]
  },
  {
   "cell_type": "code",
   "execution_count": 14,
   "metadata": {},
   "outputs": [],
   "source": [
    "Base.metadata.create_all(engine)"
   ]
  },
  {
   "cell_type": "code",
   "execution_count": 13,
   "metadata": {},
   "outputs": [
    {
     "ename": "AttributeError",
     "evalue": "type object 'Base' has no attribute 'classes'",
     "output_type": "error",
     "traceback": [
      "\u001b[0;31m---------------------------------------------------------------------------\u001b[0m",
      "\u001b[0;31mAttributeError\u001b[0m                            Traceback (most recent call last)",
      "\u001b[0;32m<ipython-input-13-8a18078c28d2>\u001b[0m in \u001b[0;36m<module>\u001b[0;34m\u001b[0m\n\u001b[1;32m      1\u001b[0m \u001b[0;31m# Save references to each table\u001b[0m\u001b[0;34m\u001b[0m\u001b[0;34m\u001b[0m\u001b[0;34m\u001b[0m\u001b[0m\n\u001b[0;32m----> 2\u001b[0;31m \u001b[0mData\u001b[0m \u001b[0;34m=\u001b[0m \u001b[0mBase\u001b[0m\u001b[0;34m.\u001b[0m\u001b[0mclasses\u001b[0m\u001b[0;34m.\u001b[0m\u001b[0mdata\u001b[0m\u001b[0;34m\u001b[0m\u001b[0;34m\u001b[0m\u001b[0m\n\u001b[0m\u001b[1;32m      3\u001b[0m \u001b[0mdataByYear\u001b[0m \u001b[0;34m=\u001b[0m \u001b[0mBase\u001b[0m\u001b[0;34m.\u001b[0m\u001b[0mclasses\u001b[0m\u001b[0;34m.\u001b[0m\u001b[0mdata_by_year\u001b[0m\u001b[0;34m\u001b[0m\u001b[0;34m\u001b[0m\u001b[0m\n",
      "\u001b[0;31mAttributeError\u001b[0m: type object 'Base' has no attribute 'classes'"
     ]
    }
   ],
   "source": [
    "# # Save references to each table\n",
    "# Data = Base.classes.data\n",
    "# dataByYear = Base.classes.data_by_year"
   ]
  },
  {
   "cell_type": "code",
   "execution_count": 15,
   "metadata": {},
   "outputs": [],
   "source": [
    "session = Session(bind=engine)"
   ]
  },
  {
   "cell_type": "code",
   "execution_count": 16,
   "metadata": {},
   "outputs": [],
   "source": [
    "session.close()"
   ]
  },
  {
   "cell_type": "code",
   "execution_count": null,
   "metadata": {},
   "outputs": [],
   "source": []
  }
 ],
 "metadata": {
  "kernelspec": {
   "display_name": "Python 3",
   "language": "python",
   "name": "python3"
  },
  "language_info": {
   "codemirror_mode": {
    "name": "ipython",
    "version": 3
   },
   "file_extension": ".py",
   "mimetype": "text/x-python",
   "name": "python",
   "nbconvert_exporter": "python",
   "pygments_lexer": "ipython3",
   "version": "3.8.5"
  }
 },
 "nbformat": 4,
 "nbformat_minor": 4
}
